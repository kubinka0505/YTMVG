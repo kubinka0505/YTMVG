{
	"nbformat": 4,
	"nbformat_minor": 0,
	"metadata": {
		"colab": {
			"name": "YTMVG",
			"provenance": [],
			"collapsed_sections": [
				"3"
			]
		},
		"kernelspec": {
			"name": "python3",
			"display_name": "Python 3"
		},
		"language_info": {
			"name": "python"
		}
	},
	"cells": [
		{
			"cell_type": "markdown",
			"metadata": {
				"id": "1"
			},
			"source": [
				"## Example 🖼️\n",
				"| Thumbnail | Video (*± Middle Frame*) |\n",
				"|:---:|:---:|\n",
				"| <img src=\"https://raw.githubusercontent.com/kubinka0505/YTMVG/master/Documents/Pictures/Examples/Google_Colab/Thumbnail.jpg\" height=200> | <img src= \"https://raw.githubusercontent.com/kubinka0505/YTMVG/master/Documents/Pictures/Examples/Google_Colab/Cover.png\" height=200> |\n",
				"| *Subjectively basing on the image clusters, a<br>16:9 background is generated, onto the<br>center of which the image is placed.* | *Generates the video with dimensions that<br>match the input image, and appends<br>the specified audio to it.*|\n",
				"\n",
				"---\n",
				"<br>\n",
				"\n",
				"### 📱 **Information for mobile users**\n",
				"<font color=\"red\"><b>If cells don't output anything and are finished immediately, please re-run the site in the <code>Desktop site</code> mode</b></font> (Chrome)\n",
				"\n",
				"<br>\n",
				"\n",
				"---\n",
				"<br>\n",
				"\n",
				"[![](https://img.shields.io/badge/github-open-lightgray?logo=github&logoColor=white&style=for-the-badge)](https://github.com/kubinka0505/YTMVG)"
			]
		},
		{
			"cell_type": "code",
			"source": [
				"#@title # Download requirements 📥\n",
				"\n",
				"import os\n",
				"\n",
				"#-=-=-=-#\n",
				"\n",
				"!rm -rf YTMVG\n",
				"!git clone https://github.com/kubinka0505/YTMVG\n",
				"\n",
				"os.chdir(\"YTMVG\")\n",
				"!apt-get install -qq -o=Dpkg::Use-Pty=0 jpegoptim\n",
				"print()\n",
				"%pip install -r requirements.txt | grep -v \"already satisfied\""
			],
			"metadata": {
				"cellView": "form",
				"id": "2"
			}
		},
		{
			"cell_type": "markdown",
			"source": [
				"# Processing ⚙️"
			],
			"metadata": {
				"id": "3"
			}
		},
		{
			"cell_type": "code",
			"source": [
				"#@title # <font color=lime>**1.**</font> Setup ⚙️\n",
				"\n",
				"import os, warnings\n",
				"from pathlib import Path\n",
				"from zipfile import ZipFile\n",
				"from google.colab import files\n",
				"warnings.filterwarnings(\"ignore\")\n",
				"\n",
				"#-=-=-=-#\n",
				"\n",
				"if os.path.exists(\"YTMVG\"):\n",
				"\tos.chdir(\"YTMVG\")\n",
				"else:\n",
				"\traise SystemExit(\"Requirements were not installed.\\nPlease run the previous cell.\")\n",
				"\n",
				"Audio_URL = \"\" #@param {type: \"string\"}\n",
				"Image_URL = \"\" #@param {type: \"string\"}\n",
				"\n",
				"\n",
				"#@markdown ---\n",
				"#@markdown # Thumbnail *(background color)* 🖼️\n",
				"\n",
				"Type = \"Wet\" #@param [\"Wet\", \"Dry\"]\n",
				"Brightness = 40 #@param {type: \"slider\", min: 25, max: 75, step: 0.1}\n",
				"Saturation = 100 #@param {type: \"slider\", min: 75, max: 250, step: 0.1}\n",
				"Resize = True #@param {type: \"boolean\"}\n",
				"Generate_Thumbnail = True #@param {type: \"boolean\"}\n",
				"\n",
				"#@markdown <br>\n",
				"\n",
				"#@markdown # Video 📹\n",
				"Maximum_Resolution = \"1080p\" #@param [\"4320p\", \"2160p\", \"1440p\", \"1080p\", \"720p\", \"480p\", \"360p\", \"240p\", \"144p\"]\n",
				"WebM = False #@param {type: \"boolean\"}\n",
				"Generate_Video = True #@param {type: \"boolean\"}\n",
				"\n",
				"#@markdown <br>\n",
				"\n",
				"#@markdown # Audio 🔊\n",
				"Bitrate = 255 #@param {type: \"slider\", min: 96, max: 256, step: 1}\n",
				"\n",
				"#@markdown <br>\n",
				"\n",
				"#@markdown # Desciption 📝\n",
				"Generate_Description = True #@param {type: \"boolean\"}\n",
				"\n",
				"#@markdown ---\n",
				"#@markdown # Program ⚙️\n",
				"Debug = False #@param {type: \"boolean\"}\n",
				"Verbose = False #@param {type: \"boolean\"}\n",
				"Help = False #@param {type: \"boolean\"}\n",
				"\n",
				"#-=-=-=-#\n",
				"\n",
				"if not Debug:\n",
				"\tif not Audio_URL:\n",
				"\t\traise SystemExit(\"No audio URL was provided.\")\n",
				"\n",
				"#-=-=-=-#\n",
				"\n",
				"# URLs\n",
				"os.environ[\"AUDIO\"] = Audio_URL\n",
				"os.environ[\"IMAGE\"] = f'-i \"{Image_URL}\"' if Image_URL else \"\"\n",
				"\n",
				"# Thumbnail\n",
				"os.environ[\"COLOR\"] = \"1\" if Type.lower() == \"dry\" else \"2\"\n",
				"os.environ[\"BRIGHTNESS\"] = str(round(Brightness / 1, 2))\n",
				"os.environ[\"SATURATION\"] = str(round(Saturation / 1, 2))\n",
				"os.environ[\"RESIZE\"] = \"-rt\" if Resize else \"\"\n",
				"os.environ[\"GEN_THUMB\"] = \"\" if Generate_Thumbnail else \"-nt\"\n",
				"\n",
				"# Video\n",
				"os.environ[\"RESOLUTION\"] = Maximum_Resolution.strip(\"p\") + \"p\"\n",
				"os.environ[\"WEBM\"] = \"-webm\" if WebM else \"\"\n",
				"os.environ[\"GEN_VIDEO\"] = \"\" if Generate_Video else \"-nv\"\n",
				"\n",
				"# Audio\n",
				"os.environ[\"BITRATE\"] = str(Bitrate)\n",
				"\n",
				"# Description\n",
				"os.environ[\"GEN_DESC\"] = \"\" if Generate_Description else \"-nd\"\n",
				"\n",
				"# Program\n",
				"os.environ[\"EXEC\"] = \"echo \" if Debug else os.sys.executable\n",
				"os.environ[\"VERBOSE\"] = \"-v 2\" if Verbose else \"\"\n",
				"os.environ[\"HELP\"] = \"-h\" if Help else \"\""
			],
			"metadata": {
				"cellView": "form",
				"id": "4"
			}
		},
		{
			"cell_type": "code",
			"source": [
				"#@title # <font color=gold>**2.**</font> Run ▶️\n",
				"\n",
				"!$EXEC \"YTMVG.py\" \\\n",
				"\t-a \"$AUDIO\" -ab $BITRATE\\k \\\n",
				"\t$IMAGE -r $RESOLUTION \\\n",
				"\t-c $COLOR $RESIZE \\\n",
				"\t-bgb $BRIGHTNESS\\% \\\n",
				"\t-bgs $SATURATION\\% \\\n",
				"\t$WEBM \\\n",
				"\t$GEN_THUMB $GEN_VIDEO $GEN_DESC \\\n",
				"\t$VERBOSE -nod $HELP\n",
				"\n",
				"#-=-=-=-#\n",
				"\n",
				"os.chdir(\"..\")"
			],
			"metadata": {
				"cellView": "form",
				"id": "5"
			}
		},
		{
			"cell_type": "code",
			"source": [
				"#@title # <font color=lime></font> Download archive with files *(optional)* 📥\n",
				"\n",
				"from google.colab import files\n",
				"\n",
				"Latest_Directory = [str(Directory.resolve()) for Directory in Path(\"YTMVG/Videos\").glob(\"*\")]\n",
				"Latest_Directory = sorted(Latest_Directory, key = os.path.getmtime)[-1]\n",
				"\n",
				"Archive_Name = \"_\".join((\"YTMVG\", os.path.basename(Latest_Directory)))\n",
				"Archive_Name = Archive_Name.replace(\" \", \"_\") + \".zip\"\n",
				"\n",
				"#-=-=-=-#\n",
				"\n",
				"# Archive Creation\n",
				"print(\"Making Archive...\")\n",
				"with ZipFile(Archive_Name, \"w\", 14, 1, 9) as Archive:\n",
				"\tfor File in Path(Latest_Directory).rglob(\"*\"):\n",
				"\t\tFile = str(File.resolve())\n",
				"\n",
				"\t\tprint('\\tWriting \"{0}\"...'.format(\n",
				"\t\t\tFile.split(os.getcwd())[-1])\n",
				"\t\t)\n",
				"\t\tArchive.write(File, os.path.basename(File))\n",
				"\n",
				"files.download(Archive_Name)\n",
				"\n",
				"#-=-=-=-#\n",
				"\n",
				"print(\"\\n\" + \"─\" * 32 + \"\\n\\nDone!\")"
			],
			"metadata": {
				"cellView": "form",
				"id": "6"
			}
		}
	]
}